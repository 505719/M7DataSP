{
  "nbformat": 4,
  "nbformat_minor": 0,
  "metadata": {
    "colab": {
      "provenance": [],
      "gpuType": "T4",
      "include_colab_link": true
    },
    "kernelspec": {
      "name": "python3",
      "display_name": "Python 3"
    },
    "language_info": {
      "name": "python"
    },
    "accelerator": "GPU"
  },
  "cells": [
    {
      "cell_type": "markdown",
      "metadata": {
        "id": "view-in-github",
        "colab_type": "text"
      },
      "source": [
        "<a href=\"https://colab.research.google.com/github/505719/M7DataSP/blob/main/HW02_FashionMNIST_Dense.ipynb\" target=\"_parent\"><img src=\"https://colab.research.google.com/assets/colab-badge.svg\" alt=\"Open In Colab\"/></a>"
      ]
    },
    {
      "cell_type": "markdown",
      "source": [
        "Let's build a simple neural network to classify images from the FashionMNIST dataset.\n",
        "\n",
        "**1. Import Libraries**"
      ],
      "metadata": {
        "id": "B5j8Ih8JeWh8"
      }
    },
    {
      "cell_type": "code",
      "execution_count": null,
      "metadata": {
        "id": "MBQVdt1S-MT9"
      },
      "outputs": [],
      "source": [
        "import torch\n",
        "import torch.nn as nn\n",
        "import torch.nn.functional as F\n",
        "import torch.optim as optim\n",
        "from torchvision import datasets, transforms"
      ]
    },
    {
      "cell_type": "markdown",
      "source": [
        "*Checking for GPU Availability*\n",
        "\n",
        "This code checks if a CUDA-enabled GPU is available and sets the `device` accordingly. If no GPU is available, it defaults to the CPU."
      ],
      "metadata": {
        "id": "zhodnFckeudX"
      }
    },
    {
      "cell_type": "code",
      "source": [
        "# Check if GPU is available\n",
        "device = torch.device('cuda' if torch.cuda.is_available() else 'cpu')\n",
        "print(f'Using device: {device}')"
      ],
      "metadata": {
        "id": "7dFBM3DFB60w",
        "colab": {
          "base_uri": "https://localhost:8080/"
        },
        "outputId": "5af89980-f8a7-48a3-c36d-2f0bbeca57b3"
      },
      "execution_count": null,
      "outputs": [
        {
          "output_type": "stream",
          "name": "stdout",
          "text": [
            "Using device: cuda\n"
          ]
        }
      ]
    },
    {
      "cell_type": "markdown",
      "source": [
        "**2. Data Preparation**"
      ],
      "metadata": {
        "id": "Abf1Alkfe302"
      }
    },
    {
      "cell_type": "code",
      "source": [
        "# Define a transform to convert images to tensors\n",
        "transform = transforms.ToTensor()\n",
        "\n",
        "# Download and load the training data\n",
        "train_set = datasets.FashionMNIST(root='./data', train=True, download=True, transform=transform)\n",
        "train_loader = torch.utils.data.DataLoader(train_set, batch_size=64, shuffle=True)\n",
        "\n",
        "# Download and load the test data\n",
        "test_set = datasets.FashionMNIST(root='./data', train=False, download=True, transform=transform)\n",
        "test_loader = torch.utils.data.DataLoader(test_set, batch_size=64, shuffle=False)"
      ],
      "metadata": {
        "id": "K47TtwmA-Z8x"
      },
      "execution_count": null,
      "outputs": []
    },
    {
      "cell_type": "markdown",
      "source": [
        "**3. Neural Network Model**"
      ],
      "metadata": {
        "id": "KD7S6DsPe8ym"
      }
    },
    {
      "cell_type": "code",
      "source": [
        "class DenseNet(nn.Module):\n",
        "    def __init__(self): # co sa ma so sietou stat na zaciatku\n",
        "        super(DenseNet, self).__init__()\n",
        "        self.flatten = nn.Flatten() # z obrazka 28x28 pixelov urobi 1-rozmerne pole 1x(28*28)\n",
        "        self.fc1 = nn.Linear(28 * 28, 128) # 1. vrstva, na vstupe je 28*28 pixelov, mame 128 neuronov\n",
        "        self.fc2 = nn.Linear(128, 10) # 2. vrstva, 10 neuronov\n",
        "        # dalsiu vrstvu by sme mohli pridat nasledovne:\n",
        "        # self.fc2 = nn.Linear(128, 32)\n",
        "        # self.fc3 = nn.Linear(32, 10)\n",
        "\n",
        "    def forward(self, x):\n",
        "        x = self.flatten(x)\n",
        "        x = F.relu(self.fc1(x))\n",
        "        # x = F.relu(self.fc2(x))\n",
        "        logits = self.fc2(x)\n",
        "        # logits = self.fc3(x)\n",
        "        return logits\n",
        "\n",
        "model = DenseNet().to(device)\n",
        "model"
      ],
      "metadata": {
        "id": "twFKRzDA-lnB",
        "colab": {
          "base_uri": "https://localhost:8080/"
        },
        "outputId": "098bd26d-562f-4231-f3ac-7f90abdb79e4"
      },
      "execution_count": null,
      "outputs": [
        {
          "output_type": "execute_result",
          "data": {
            "text/plain": [
              "DenseNet(\n",
              "  (flatten): Flatten(start_dim=1, end_dim=-1)\n",
              "  (fc1): Linear(in_features=784, out_features=128, bias=True)\n",
              "  (fc2): Linear(in_features=128, out_features=10, bias=True)\n",
              ")"
            ]
          },
          "metadata": {},
          "execution_count": 30
        }
      ]
    },
    {
      "cell_type": "markdown",
      "source": [
        "**4. Loss & Optimizer**"
      ],
      "metadata": {
        "id": "_1FrTseTgr29"
      }
    },
    {
      "cell_type": "code",
      "source": [
        "criterion = nn.CrossEntropyLoss()\n",
        "optimizer = optim.SGD(model.parameters(), lr=0.1) # lr = learning rate"
      ],
      "metadata": {
        "id": "IJPpEm9n-zB6"
      },
      "execution_count": null,
      "outputs": []
    },
    {
      "cell_type": "markdown",
      "source": [
        "**5. Training loop**"
      ],
      "metadata": {
        "id": "HncQZoLcgywM"
      }
    },
    {
      "cell_type": "code",
      "source": [
        "for epoch in range(10):  # Train for 10 epochs\n",
        "    running_loss = 0.0\n",
        "    for images, labels in train_loader:\n",
        "        # Move images and labels to the device\n",
        "        images = images.to(device)\n",
        "        labels = labels.to(device)\n",
        "\n",
        "        # Zero the parameter gradients\n",
        "        optimizer.zero_grad()\n",
        "\n",
        "        # Forward pass\n",
        "        outputs = model(images)\n",
        "        loss = criterion(outputs, labels)\n",
        "\n",
        "        # Backward pass and optimize\n",
        "        loss.backward()\n",
        "        optimizer.step()\n",
        "\n",
        "        running_loss += loss.item() # vezmeme parametry a odcitame learning rate * gradient\n",
        "\n",
        "    print(f'Epoch [{epoch+1}/10], Loss: {running_loss / len(train_loader):.4f}')"
      ],
      "metadata": {
        "id": "5PYUAF99_Qsc",
        "colab": {
          "base_uri": "https://localhost:8080/"
        },
        "outputId": "f0b54f86-f031-4862-f33a-b23a42d1e79a"
      },
      "execution_count": null,
      "outputs": [
        {
          "output_type": "stream",
          "name": "stdout",
          "text": [
            "Epoch [1/10], Loss: 0.6325\n",
            "Epoch [2/10], Loss: 0.4431\n",
            "Epoch [3/10], Loss: 0.3977\n",
            "Epoch [4/10], Loss: 0.3709\n",
            "Epoch [5/10], Loss: 0.3496\n",
            "Epoch [6/10], Loss: 0.3350\n",
            "Epoch [7/10], Loss: 0.3219\n",
            "Epoch [8/10], Loss: 0.3116\n",
            "Epoch [9/10], Loss: 0.3005\n",
            "Epoch [10/10], Loss: 0.2930\n"
          ]
        }
      ]
    },
    {
      "cell_type": "markdown",
      "source": [
        "**6. Evaluation on the test set**"
      ],
      "metadata": {
        "id": "u4qK5d5Og608"
      }
    },
    {
      "cell_type": "code",
      "source": [
        "correct = 0\n",
        "total = 0\n",
        "with torch.no_grad():  # Disable gradient calculation for evaluation\n",
        "    for images, labels in test_loader:\n",
        "        # Move images and labels to the device\n",
        "        images = images.to(device)\n",
        "        labels = labels.to(device)\n",
        "\n",
        "        outputs = model(images)\n",
        "        _, predicted = torch.max(outputs, 1)\n",
        "        total += labels.size(0)\n",
        "        correct += (predicted == labels).sum().item()\n",
        "\n",
        "print(f'Accuracy: {100 * correct / total:.2f}%')"
      ],
      "metadata": {
        "id": "HQTk85Jt_TXb",
        "colab": {
          "base_uri": "https://localhost:8080/"
        },
        "outputId": "7b1a7061-222c-49cb-9c51-66653cf71ccd"
      },
      "execution_count": null,
      "outputs": [
        {
          "output_type": "stream",
          "name": "stdout",
          "text": [
            "Accuracy: 87.07%\n"
          ]
        }
      ]
    },
    {
      "cell_type": "code",
      "source": [],
      "metadata": {
        "id": "WeLdrT_jC4wn"
      },
      "execution_count": null,
      "outputs": []
    }
  ]
}